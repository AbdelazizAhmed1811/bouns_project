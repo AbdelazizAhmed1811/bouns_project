{
 "cells": [
  {
   "cell_type": "code",
   "execution_count": 1,
   "metadata": {},
   "outputs": [
    {
     "name": "stdout",
     "output_type": "stream",
     "text": [
      "Starting to stream transactions to Kafka...\n",
      "All transactions have been sent to Kafka.\n"
     ]
    }
   ],
   "source": [
    "from kafka import KafkaProducer\n",
    "import pandas as pd\n",
    "import json\n",
    "import time\n",
    "\n",
    "# Kafka Configuration\n",
    "KAFKA_BROKER = 'localhost:9092'  # Update with your Kafka broker\n",
    "TOPIC_NAME = 'transactions0'\n",
    "\n",
    "# Initialize Kafka Producer\n",
    "producer = KafkaProducer(\n",
    "    bootstrap_servers=KAFKA_BROKER,\n",
    "    value_serializer=lambda v: json.dumps(v).encode('utf-8')\n",
    ")\n",
    "\n",
    "# Load your dataset\n",
    "file_path = 'streaming_data.csv'  \n",
    "df = pd.read_csv(file_path)\n",
    "df = df.sample(frac=1, random_state=42).reset_index(drop=True)\n",
    "\n",
    "# Drop nulls and preprocess to match your feature requirements\n",
    "df.dropna(inplace=True)\n",
    "df['Same_Location'] = (df['Sender_bank_location'] == df['Receiver_bank_location']).astype(int)\n",
    "\n",
    "# Select relevant columns (adjust as per your features)\n",
    "columns = ['Amount', 'Payment_currency', 'Received_currency',\n",
    "       'Sender_bank_location', 'Receiver_bank_location', 'Payment_type',\n",
    "       'Same_Location', 'Hour', 'Sender_transaction_count',\n",
    "       'Receiver_transaction_count', 'currency_match', 'Is_laundering']\n",
    "\n",
    "# Send rows to Kafka one by one\n",
    "print(\"Starting to stream transactions to Kafka...\")\n",
    "for index, row in df.iterrows():\n",
    "    # Convert row to dictionary\n",
    "    message = row[columns].to_dict()\n",
    "    \n",
    "    # Send message to Kafka\n",
    "    producer.send(TOPIC_NAME, message)\n",
    "    # print(f\"Sent row {index+1}: {message}\")\n",
    "    \n",
    "    # Simulate streaming delay (e.g., 1 row per second)\n",
    "    # time.sleep(1)\n",
    "\n",
    "print(\"All transactions have been sent to Kafka.\")\n",
    "producer.flush()\n",
    "producer.close()\n"
   ]
  },
  {
   "cell_type": "code",
   "execution_count": 20,
   "metadata": {},
   "outputs": [],
   "source": [
    "# Load your dataset\n",
    "import pandas as pd\n",
    "file_path = 'streaming_data.csv'  # Update with your dataset file path\n",
    "df = pd.read_csv(file_path)\n",
    "df = df.sample(frac=1, random_state=42).reset_index(drop=True)\n",
    "\n"
   ]
  },
  {
   "cell_type": "code",
   "execution_count": null,
   "metadata": {},
   "outputs": [],
   "source": [
    "df.head()"
   ]
  }
 ],
 "metadata": {
  "kernelspec": {
   "display_name": "Python 3",
   "language": "python",
   "name": "python3"
  },
  "language_info": {
   "codemirror_mode": {
    "name": "ipython",
    "version": 3
   },
   "file_extension": ".py",
   "mimetype": "text/x-python",
   "name": "python",
   "nbconvert_exporter": "python",
   "pygments_lexer": "ipython3",
   "version": "3.11.1"
  }
 },
 "nbformat": 4,
 "nbformat_minor": 2
}
